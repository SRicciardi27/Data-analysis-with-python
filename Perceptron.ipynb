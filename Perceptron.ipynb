{
 "cells": [
  {
   "cell_type": "markdown",
   "metadata": {},
   "source": [
    "# A Simple Perceptron for binary classification"
   ]
  },
  {
   "cell_type": "markdown",
   "metadata": {},
   "source": [
    "Let's make a single perceptron from scratches for a binary classification problem, in particular on the standard iris dataset."
   ]
  },
  {
   "cell_type": "code",
   "execution_count": 26,
   "metadata": {},
   "outputs": [],
   "source": [
    "import numpy as np\n",
    "from sklearn.datasets import load_iris\n",
    "import pandas as pd\n",
    "iris = load_iris()\n"
   ]
  },
  {
   "cell_type": "code",
   "execution_count": 29,
   "metadata": {},
   "outputs": [],
   "source": [
    "X= iris.data[:,:]\n",
    "Y =(iris.target == 0).astype(np.int) # we have \" 1\" for the values in the target = 0 (\"setosa\" species) , \"0\" otherwise (\"versicolor\" or \"viriginica\" species).\n",
    "noise = np.random.normal(0,1,(150, 4)) # some noise to add to the features, to avoid overfitting "
   ]
  },
  {
   "cell_type": "markdown",
   "metadata": {},
   "source": [
    "Let's see the kind of flower:"
   ]
  },
  {
   "cell_type": "code",
   "execution_count": 3,
   "metadata": {},
   "outputs": [
    {
     "data": {
      "text/plain": [
       "array(['setosa', 'versicolor', 'virginica'], dtype='<U10')"
      ]
     },
     "execution_count": 3,
     "metadata": {},
     "output_type": "execute_result"
    }
   ],
   "source": [
    "iris.target_names"
   ]
  },
  {
   "cell_type": "markdown",
   "metadata": {},
   "source": [
    "Let's add noise to the data:"
   ]
  },
  {
   "cell_type": "code",
   "execution_count": 30,
   "metadata": {},
   "outputs": [
    {
     "data": {
      "text/plain": [
       "(150, 4)"
      ]
     },
     "execution_count": 30,
     "metadata": {},
     "output_type": "execute_result"
    }
   ],
   "source": [
    "X = pd.DataFrame(X+noise)\n",
    "X.shape"
   ]
  },
  {
   "cell_type": "markdown",
   "metadata": {},
   "source": [
    "Let's add a bias column:"
   ]
  },
  {
   "cell_type": "code",
   "execution_count": 31,
   "metadata": {},
   "outputs": [],
   "source": [
    "X.insert(0, 'bias',[1 for i in range(X.shape[0])])"
   ]
  },
  {
   "cell_type": "markdown",
   "metadata": {},
   "source": [
    "Let's prepare test ad train set:"
   ]
  },
  {
   "cell_type": "code",
   "execution_count": 32,
   "metadata": {},
   "outputs": [],
   "source": [
    "from sklearn.model_selection import train_test_split\n",
    "\n",
    "X_train,X_test,Y_train,Y_test = train_test_split(X,Y, test_size = 0.3,random_state = 42)\n",
    "\n",
    "X_train = pd.DataFrame(X_train)\n",
    "X_test = pd.DataFrame(X_test)\n"
   ]
  },
  {
   "cell_type": "markdown",
   "metadata": {},
   "source": [
    "Let's initialize the parameters of the perceptron:"
   ]
  },
  {
   "cell_type": "code",
   "execution_count": 33,
   "metadata": {},
   "outputs": [],
   "source": [
    "theta = np.zeros(5) #weight matrix \n",
    "eta  = 0.1 # learning rate\n",
    "n_epochs = 10 # number of epochs\n",
    "Y_pred_vector_train = np.array([0 for i in range(len(Y_train))]) # predictions vector"
   ]
  },
  {
   "cell_type": "markdown",
   "metadata": {},
   "source": [
    "Let's define two activation function :"
   ]
  },
  {
   "cell_type": "code",
   "execution_count": 35,
   "metadata": {},
   "outputs": [],
   "source": [
    "def sigmoid(x):\n",
    "    return 1/(1+np.exp(-x))\n",
    "\n",
    "def heaviside(x):\n",
    "    if x > 0 :\n",
    "        return 1\n",
    "    else :\n",
    "        return 0"
   ]
  },
  {
   "cell_type": "markdown",
   "metadata": {},
   "source": [
    "Let's train the perceptron:"
   ]
  },
  {
   "cell_type": "code",
   "execution_count": 36,
   "metadata": {},
   "outputs": [],
   "source": [
    "for i in range(n_epochs):\n",
    "    for j in range(len(Y_train)):\n",
    "        z = np.dot(X_train.iloc[j],theta)\n",
    "        Y_pred = heaviside(z)\n",
    "        Y_pred_vector_train[j] = Y_pred # this part is optional, i wrote this row to have a vector for predictions and to calculate some metrics for the perceptron.\n",
    "        theta = theta + eta*X_train.iloc[j]*(Y_train[j]-Y_pred) # Hebb's rule of learning"
   ]
  },
  {
   "cell_type": "markdown",
   "metadata": {},
   "source": [
    "Let's use the weight matrix to make prediction on test set:"
   ]
  },
  {
   "cell_type": "code",
   "execution_count": 38,
   "metadata": {},
   "outputs": [],
   "source": [
    "Y_pred_vector_test = []\n",
    "for i in range(X_test.shape[0]):\n",
    "    Y_pred_i = heaviside(np.dot(X_test.iloc[i],theta))\n",
    "    Y_pred_vector_test.append(Y_pred_i)\n",
    "Y_pred_vector_test = np.array(Y_pred_vector_test)\n"
   ]
  },
  {
   "cell_type": "markdown",
   "metadata": {},
   "source": [
    "Let's evaluate this perceptron:"
   ]
  },
  {
   "cell_type": "code",
   "execution_count": 48,
   "metadata": {},
   "outputs": [
    {
     "name": "stdout",
     "output_type": "stream",
     "text": [
      "The metrics for this perceptron are equal to : (accuracy train set = 0.90; accuracy test set = 0.82), (recall train set = 0.81; recall test set = 1.00), (precision train set = 0.86; precision test set = 0.70), (f1 train set = 0.83; f1 test set = 0.83,)\n"
     ]
    }
   ],
   "source": [
    "from sklearn.metrics import accuracy_score,precision_score,recall_score,f1_score\n",
    "\n",
    "accuracy_train = accuracy_score(Y_train,Y_pred_vector_train)\n",
    "precision_train = precision_score(Y_train,Y_pred_vector_train)\n",
    "recall_train= recall_score(Y_train,Y_pred_vector_train)\n",
    "f1_train = f1_score(Y_train,Y_pred_vector_train)\n",
    "\n",
    "accuracy_test = accuracy_score(Y_test,Y_pred_vector_test)\n",
    "precision_test = precision_score(Y_test,Y_pred_vector_test)\n",
    "recall_test= recall_score(Y_test,Y_pred_vector_test)\n",
    "f1_test = f1_score(Y_test,Y_pred_vector_test)\n",
    "print(\"The metrics for this perceptron are equal to : (accuracy train set = %.2f; accuracy test set = %.2f), (recall train set = %.2f; recall test set = %.2f), (precision train set = %.2f; precision test set = %.2f), (f1 train set = %.2f; f1 test set = %.2f,)\" %(accuracy_train,accuracy_test,recall_train,recall_test,precision_train,precision_test,f1_train,f1_test))"
   ]
  },
  {
   "cell_type": "code",
   "execution_count": 61,
   "metadata": {},
   "outputs": [
    {
     "data": {
      "text/plain": [
       "<matplotlib.axes._subplots.AxesSubplot at 0x23674065470>"
      ]
     },
     "execution_count": 61,
     "metadata": {},
     "output_type": "execute_result"
    },
    {
     "data": {
      "image/png": "[encoded data removed]",
      "text/plain": [
       "<Figure size 432x288 with 2 Axes>"
      ]
     },
     "metadata": {
      "needs_background": "light"
     },
     "output_type": "display_data"
    }
   ],
   "source": [
    "from sklearn.metrics import confusion_matrix\n",
    "import seaborn as sb\n",
    "cm = confusion_matrix(Y_test,Y_pred_vector_test)\n",
    "label = ['True Negative','False Positive','False Negative', 'True Positive']\n",
    "sb.heatmap(cm/np.sum(cm),cmap = 'Greens', fmt='.2%' ,annot= True)"
   ]
  },
  {
   "cell_type": "markdown",
   "metadata": {},
   "source": [
    "## Conlusion "
   ]
  },
  {
   "cell_type": "markdown",
   "metadata": {},
   "source": [
    " with a simple perceptron we have :\n",
    "- True negative percentage = 40.00 %\n",
    "- True positive percentage = 42.00 %\n",
    "- False positive percentage  = 17.78 %\n",
    "- False negative percentage = 0.00 %\n",
    "\n",
    "This means that this perceptron classified some flower as \"setosa\" while they are something else ( near the $\\sim$ 18 % of the test set), however it classified correctly every flower that is a \"setosa\"( there isn't any false negative record) .  We can see this above, in precision and recall on test set. To improve the precision for (multi)classification task we could implent a \"set\" of perceptron : a neural network."
   ]
  }
 ],
 "metadata": {
  "kernelspec": {
   "display_name": "Python 3",
   "language": "python",
   "name": "python3"
  },
  "language_info": {
   "codemirror_mode": {
    "name": "ipython",
    "version": 3
   },
   "file_extension": ".py",
   "mimetype": "text/x-python",
   "name": "python",
   "nbconvert_exporter": "python",
   "pygments_lexer": "ipython3",
   "version": "3.7.3"
  }
 },
 "nbformat": 4,
 "nbformat_minor": 2
}
